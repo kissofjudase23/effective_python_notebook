{
 "cells": [
  {
   "cell_type": "raw",
   "metadata": {},
   "source": [
    "Memory management in the default implementation of Python, CPython, uses reference counting. \n",
    "This ensures that as soon as all references to an object have expired, the referenced object is also cleared.\n",
    "CPython also has a built-in cycle detector to ensure that self-referencing objects are eventually garbage collected\n"
   ]
  },
  {
   "cell_type": "code",
   "execution_count": 2,
   "metadata": {},
   "outputs": [],
   "source": [
    "# %load ../example_code/item_59/tracemalloc/top_n.py\n",
    "#!/usr/bin/env python3\n",
    "\n",
    "# Copyright 2014 Brett Slatkin, Pearson Education Inc.\n",
    "#\n",
    "# Licensed under the Apache License, Version 2.0 (the \"License\");\n",
    "# you may not use this file except in compliance with the License.\n",
    "# You may obtain a copy of the License at\n",
    "#\n",
    "#     http://www.apache.org/licenses/LICENSE-2.0\n",
    "#\n",
    "# Unless required by applicable law or agreed to in writing, software\n",
    "# distributed under the License is distributed on an \"AS IS\" BASIS,\n",
    "# WITHOUT WARRANTIES OR CONDITIONS OF ANY KIND, either express or implied.\n",
    "# See the License for the specific language governing permissions and\n",
    "# limitations under the License.\n",
    "\n",
    "# Preamble to mimick book environment\n",
    "import logging\n",
    "from pprint import pprint\n",
    "from sys import stdout as STDOUT"
   ]
  },
  {
   "cell_type": "code",
   "execution_count": 7,
   "metadata": {},
   "outputs": [],
   "source": [
    "# Example 1: waste_memory\n",
    "import os\n",
    "import hashlib\n",
    "\n",
    "class MyObject(object):\n",
    "    def __init__(self):\n",
    "        self.x = os.urandom(100)\n",
    "        self.y = hashlib.sha1(self.x).hexdigest()\n",
    "\n",
    "def get_data():\n",
    "    values = []\n",
    "    for _ in range(100):\n",
    "        obj = MyObject()\n",
    "        values.append(obj)\n",
    "    return values\n",
    "\n",
    "def waste_memory_run():\n",
    "    deep_values = []\n",
    "    for _ in range(100):\n",
    "        deep_values.append(get_data())\n",
    "    return deep_values"
   ]
  },
  {
   "cell_type": "code",
   "execution_count": 8,
   "metadata": {},
   "outputs": [
    {
     "name": "stdout",
     "output_type": "stream",
     "text": [
      "52461 objects before\n",
      "62214 objects after\n",
      "{'event_pipe': <zmq.sugar.socket.Socket object at 0x104be3e80>}\n",
      "<frame object at 0x7fa2e907b838>\n",
      "<frame object at 0x7fa2e9161d08>\n"
     ]
    }
   ],
   "source": [
    "# Example 2: using_gc\n",
    "import gc\n",
    "found_objects = gc.get_objects()\n",
    "print('%d objects before' % len(found_objects))\n",
    "\n",
    "x = run()\n",
    "found_objects = gc.get_objects()\n",
    "print('%d objects after' % len(found_objects))\n",
    "for obj in found_objects[:3]:\n",
    "    print(repr(obj)[:100])"
   ]
  },
  {
   "cell_type": "raw",
   "metadata": {},
   "source": [
    "The problem with gc.get_objects is that it doesn’t tell you anything about how the\n",
    "objects were allocated. In complicated programs, a specific class of object could be\n",
    "allocated many different ways. The overall number of objects isn’t nearly as important as\n",
    "identifying the code responsible for allocating the objects that are leaking memory."
   ]
  },
  {
   "cell_type": "code",
   "execution_count": 12,
   "metadata": {},
   "outputs": [
    {
     "name": "stdout",
     "output_type": "stream",
     "text": [
      "/Library/Frameworks/Python.framework/Versions/3.6/lib/python3.6/tracemalloc.py:113: size=176 B (-42.1 KiB), count=2 (-490), average=88 B\n",
      "/Library/Frameworks/Python.framework/Versions/3.6/lib/python3.6/tracemalloc.py:180: size=17.3 KiB (-25.4 KiB), count=316 (-464), average=56 B\n",
      "<ipython-input-7-6c9f5d43962d>:7: size=4792 KiB (+4896 B), count=60097 (+68), average=82 B\n"
     ]
    }
   ],
   "source": [
    "# Example 3: top_n\n",
    "import tracemalloc\n",
    "\n",
    "tracemalloc.start(10)  # Save up to 10 stack frames\n",
    "\n",
    "time1 = tracemalloc.take_snapshot()\n",
    "x = waste_memory_run()\n",
    "time2 = tracemalloc.take_snapshot()\n",
    "\n",
    "stats = time2.compare_to(time1, 'lineno')\n",
    "for stat in stats[:3]:\n",
    "    print(stat)"
   ]
  },
  {
   "cell_type": "code",
   "execution_count": 10,
   "metadata": {},
   "outputs": [
    {
     "name": "stdout",
     "output_type": "stream",
     "text": [
      "  File \"<ipython-input-7-6c9f5d43962d>\", line 7\n",
      "    self.x = os.urandom(100)\n",
      "  File \"<ipython-input-7-6c9f5d43962d>\", line 13\n",
      "    obj = MyObject()\n",
      "  File \"<ipython-input-7-6c9f5d43962d>\", line 20\n",
      "    deep_values.append(get_data())\n",
      "  File \"<ipython-input-10-e071036ff45a>\", line 8\n",
      "    x = waste_memory_run()\n",
      "  File \"/Users/tom_lin/WorkSpace/venv/python3.6/lib/python3.6/site-packages/IPython/core/interactiveshell.py\", line 2961\n",
      "    exec(code_obj, self.user_global_ns, self.user_ns)\n",
      "  File \"/Users/tom_lin/WorkSpace/venv/python3.6/lib/python3.6/site-packages/IPython/core/interactiveshell.py\", line 2901\n",
      "    if self.run_code(code, result):\n",
      "  File \"/Users/tom_lin/WorkSpace/venv/python3.6/lib/python3.6/site-packages/IPython/core/interactiveshell.py\", line 2785\n",
      "    interactivity=interactivity, compiler=compiler, result=result)\n",
      "  File \"/Users/tom_lin/WorkSpace/venv/python3.6/lib/python3.6/site-packages/IPython/core/interactiveshell.py\", line 2662\n",
      "    raw_cell, store_history, silent, shell_futures)\n",
      "  File \"/Users/tom_lin/WorkSpace/venv/python3.6/lib/python3.6/site-packages/ipykernel/zmqshell.py\", line 536\n",
      "    return super(ZMQInteractiveShell, self).run_cell(*args, **kwargs)\n",
      "  File \"/Users/tom_lin/WorkSpace/venv/python3.6/lib/python3.6/site-packages/ipykernel/ipkernel.py\", line 294\n",
      "    res = shell.run_cell(code, store_history=store_history, silent=silent)\n"
     ]
    }
   ],
   "source": [
    "import tracemalloc\n",
    "\n",
    "# Example 4: with trace\n",
    "tracemalloc.start(10)\n",
    "\n",
    "time1 = tracemalloc.take_snapshot()\n",
    "\n",
    "x = waste_memory_run()\n",
    "\n",
    "time2 = tracemalloc.take_snapshot()\n",
    "stats = time2.compare_to(time1, 'traceback')\n",
    "top = stats[0]\n",
    "print('\\n'.join(top.traceback.format()))"
   ]
  },
  {
   "cell_type": "markdown",
   "metadata": {},
   "source": [
    "# Things to Remember\n",
    "1. It can be difficult to understand how Python programs use and leak memory.\n",
    "2. The gc module can help you understand which objects exist, but it has no information about how they were allocated.\n",
    "3. The tracemalloc built-in module provides powerful tools for understanding the source of memory usage.\n",
    "4. tracemalloc is only available in Python 3.4 and above."
   ]
  },
  {
   "cell_type": "markdown",
   "metadata": {},
   "source": [
    "# 雜談:\n",
    "    \n",
    "[重構、SOLID、設計模式、review、unit test 這些東西做起來既麻煩又沒有比較省時為什麼要做？](https://www.ptt.cc/bbs/Soft_Job/M.1537865878.A.AEF.html)\n",
    "    \n",
    "    "
   ]
  },
  {
   "cell_type": "markdown",
   "metadata": {},
   "source": [
    "# Next  Book:\n",
    "1. Clean Code \n",
    "2. Design Pattern\n",
    "3. Refactoring\n",
    "4. Code Complete (A practical handbook of software construction)\n",
    "5. Clean Coder"
   ]
  },
  {
   "cell_type": "code",
   "execution_count": null,
   "metadata": {},
   "outputs": [],
   "source": []
  }
 ],
 "metadata": {
  "kernelspec": {
   "display_name": "Python 3",
   "language": "python",
   "name": "python3"
  },
  "language_info": {
   "codemirror_mode": {
    "name": "ipython",
    "version": 3
   },
   "file_extension": ".py",
   "mimetype": "text/x-python",
   "name": "python",
   "nbconvert_exporter": "python",
   "pygments_lexer": "ipython3",
   "version": "3.6.6"
  }
 },
 "nbformat": 4,
 "nbformat_minor": 1
}
