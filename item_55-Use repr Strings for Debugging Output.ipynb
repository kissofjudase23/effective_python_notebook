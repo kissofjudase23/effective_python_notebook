{
 "cells": [
  {
   "cell_type": "markdown",
   "metadata": {},
   "source": [
    "# Item 55: Use repr Strings for Debugging Output"
   ]
  },
  {
   "cell_type": "code",
   "execution_count": 1,
   "metadata": {
    "collapsed": true
   },
   "outputs": [],
   "source": [
    "# Copyright 2014 Brett Slatkin, Pearson Education Inc.\n",
    "#\n",
    "# Licensed under the Apache License, Version 2.0 (the \"License\");\n",
    "# you may not use this file except in compliance with the License.\n",
    "# You may obtain a copy of the License at\n",
    "#\n",
    "#     http://www.apache.org/licenses/LICENSE-2.0\n",
    "#\n",
    "# Unless required by applicable law or agreed to in writing, software\n",
    "# distributed under the License is distributed on an \"AS IS\" BASIS,\n",
    "# WITHOUT WARRANTIES OR CONDITIONS OF ANY KIND, either express or implied.\n",
    "# See the License for the specific language governing permissions and\n",
    "# limitations under the License.\n",
    "\n",
    "# Preamble to mimick book environment\n",
    "import logging\n",
    "from pprint import pprint\n",
    "from sys import stdout as STDOUT"
   ]
  },
  {
   "cell_type": "markdown",
   "metadata": {},
   "source": [
    "# The problem is that the human-readable string for a value doesn’t make it clear what the actual type of the value is."
   ]
  },
  {
   "cell_type": "code",
   "execution_count": 3,
   "metadata": {},
   "outputs": [
    {
     "name": "stdout",
     "output_type": "stream",
     "text": [
      "5\n",
      "5\n"
     ]
    }
   ],
   "source": [
    "# Example 3\n",
    "print(5)\n",
    "print('5')"
   ]
  },
  {
   "cell_type": "code",
   "execution_count": 10,
   "metadata": {},
   "outputs": [
    {
     "name": "stdout",
     "output_type": "stream",
     "text": [
      "repr(a):'\\x07'\n",
      "**********\n",
      "a:\u0007\n"
     ]
    }
   ],
   "source": [
    "# Example 4\n",
    "a = '\\x07'\n",
    "print(f'repr(a):{repr(a)}')\n",
    "print('*'*10)\n",
    "print(f'a:{a}')"
   ]
  },
  {
   "cell_type": "code",
   "execution_count": 7,
   "metadata": {},
   "outputs": [
    {
     "name": "stdout",
     "output_type": "stream",
     "text": [
      "5\n",
      "'5'\n"
     ]
    }
   ],
   "source": [
    "# Example 6\n",
    "print(repr(5))\n",
    "print(repr('5'))"
   ]
  },
  {
   "cell_type": "markdown",
   "metadata": {},
   "source": [
    "# Unfortunately, the default value of repr for object instances isn’t especially helpful."
   ]
  },
  {
   "cell_type": "code",
   "execution_count": 1,
   "metadata": {},
   "outputs": [
    {
     "name": "stdout",
     "output_type": "stream",
     "text": [
      "<__main__.OpaqueClass object at 0x10a399b38>\n"
     ]
    }
   ],
   "source": [
    "# Example 8\n",
    "class OpaqueClass(object):\n",
    "    def __init__(self, x, y):\n",
    "        self.x = x\n",
    "        self.y = y\n",
    "\n",
    "obj = OpaqueClass(1, 2)\n",
    "\n",
    "print(obj)"
   ]
  },
  {
   "cell_type": "code",
   "execution_count": 25,
   "metadata": {},
   "outputs": [],
   "source": [
    "# Example 9\n",
    "class BetterClass(object):\n",
    "    def __init__(self, x, y):\n",
    "        self.x = 1\n",
    "        self.y = 2\n",
    "        \n",
    "    def __repr__(self):\n",
    "        return 'BetterClass(%d, %d)' % (self.x, self.y)\n",
    "    \n",
    "    def __eq__(self, other):\n",
    "        return (isinstance(other, self.__class__) and self.__dict__ == other.__dict__)"
   ]
  },
  {
   "cell_type": "code",
   "execution_count": 26,
   "metadata": {},
   "outputs": [
    {
     "name": "stdout",
     "output_type": "stream",
     "text": [
      "BetterClass(1, 2)\n",
      "BetterClass(1, 2)\n"
     ]
    }
   ],
   "source": [
    "# Example 10\n",
    "obj = BetterClass(1, 2)\n",
    "\n",
    "print(repr(obj))\n",
    "\n",
    "obj2 = eval(repr(obj))\n",
    "\n",
    "print(obj2)\n",
    "\n",
    "assert (obj==obj2)"
   ]
  },
  {
   "cell_type": "markdown",
   "metadata": {},
   "source": [
    "# Things to Remember\n",
    "1. Calling print on built-in Python types will produce the human-readable string version of a value, which hides type information.\n",
    "2. Calling repr on built-in Python types will produce the printable string version of a value. These repr strings could be passed to the eval built-in function to get back the original value.\n",
    "3. %s in format strings will produce human-readable strings like str. %r will produce printable strings like repr.\n",
    "4. You can define the __repr__ method to customize the printable representation of a class and provide more detailed debugging information.\n",
    "5. You can reach into any object’s __dict__ attribute to view its internals."
   ]
  },
  {
   "cell_type": "code",
   "execution_count": null,
   "metadata": {},
   "outputs": [],
   "source": []
  }
 ],
 "metadata": {
  "kernelspec": {
   "display_name": "Python 3",
   "language": "python",
   "name": "python3"
  },
  "language_info": {
   "codemirror_mode": {
    "name": "ipython",
    "version": 3
   },
   "file_extension": ".py",
   "mimetype": "text/x-python",
   "name": "python",
   "nbconvert_exporter": "python",
   "pygments_lexer": "ipython3",
   "version": "3.6.6"
  }
 },
 "nbformat": 4,
 "nbformat_minor": 1
}
