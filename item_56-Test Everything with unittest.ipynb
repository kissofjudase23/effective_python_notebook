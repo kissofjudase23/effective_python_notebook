{
 "cells": [
  {
   "cell_type": "markdown",
   "metadata": {},
   "source": [
    "## There’s nothing in the compiler that will ensure that your program will work when you run it. \n",
    "\n",
    "## The big difference between Python and many other languages is that the only way to have any confidence in a Python program is by writing tests. "
   ]
  },
  {
   "cell_type": "code",
   "execution_count": 1,
   "metadata": {
    "collapsed": true
   },
   "outputs": [],
   "source": [
    "# Copyright 2014 Brett Slatkin, Pearson Education Inc.\n",
    "#\n",
    "# Licensed under the Apache License, Version 2.0 (the \"License\");\n",
    "# you may not use this file except in compliance with the License.\n",
    "# You may obtain a copy of the License at\n",
    "#\n",
    "#     http://www.apache.org/licenses/LICENSE-2.0\n",
    "#\n",
    "# Unless required by applicable law or agreed to in writing, software\n",
    "# distributed under the License is distributed on an \"AS IS\" BASIS,\n",
    "# WITHOUT WARRANTIES OR CONDITIONS OF ANY KIND, either express or implied.\n",
    "# See the License for the specific language governing permissions and\n",
    "# limitations under the License.\n",
    "\n",
    "# Preamble to mimick book environment\n",
    "import logging\n",
    "from pprint import pprint\n",
    "from sys import stdout as STDOUT"
   ]
  },
  {
   "cell_type": "code",
   "execution_count": 2,
   "metadata": {
    "collapsed": true
   },
   "outputs": [],
   "source": [
    "# Example 1\n",
    "def to_str(data):\n",
    "    if isinstance(data, str):\n",
    "        return data\n",
    "    elif isinstance(data, bytes):\n",
    "        return data.decode('utf-8')\n",
    "    else:\n",
    "        raise TypeError('Must supply str or bytes, '\n",
    "                        'found: %r' % data)"
   ]
  },
  {
   "cell_type": "code",
   "execution_count": 3,
   "metadata": {},
   "outputs": [],
   "source": [
    "# Example 2\n",
    "from unittest import TestCase, main\n",
    "\n",
    "class UtilsTestCase(TestCase):\n",
    "    def test_to_str_bytes(self):\n",
    "        self.assertEqual('hello', to_str(b'hello'))\n",
    "\n",
    "    def test_to_str_str(self):\n",
    "        self.assertEqual('hello', to_str('hello'))\n",
    "\n",
    "    def test_to_str_bad(self):\n",
    "        self.assertRaises(TypeError, to_str, object())\n",
    "        "
   ]
  },
  {
   "cell_type": "code",
   "execution_count": 4,
   "metadata": {
    "collapsed": true
   },
   "outputs": [],
   "source": [
    "# Example 3\n",
    "from tempfile import TemporaryDirectory\n",
    "from unittest import TestCase\n",
    "class MyTest(TestCase):\n",
    "    def setUp(self):\n",
    "        self.test_dir = TemporaryDirectory()\n",
    "    def tearDown(self):\n",
    "        self.test_dir.cleanup()\n",
    "    # Test methods follow"
   ]
  },
  {
   "cell_type": "markdown",
   "metadata": {},
   "source": [
    "# Python Mock\n",
    "https://docs.python.org/3/library/unittest.mock-examples.html"
   ]
  },
  {
   "cell_type": "code",
   "execution_count": null,
   "metadata": {},
   "outputs": [],
   "source": [
    "#!/usr/bin/env python\n",
    "# -*- coding: utf-8 -*-\n",
    "\n",
    "# mymodule.py (code needed to be tested)\n",
    "\n",
    "import os\n",
    "import os.path\n",
    "\n",
    "class RemovalService(object):\n",
    "    \"\"\"A service for removing objects from the filesystem.\"\"\"\n",
    "\n",
    "    def rm(self, filename):\n",
    "        if os.path.isfile(filename):\n",
    "            os.remove(filename)\n",
    "            \n",
    "\n",
    "class UploadService(object):\n",
    "\n",
    "    def __init__(self, removal_service):\n",
    "        self.removal_service = removal_service\n",
    "        \n",
    "    def upload_complete(self, filename):\n",
    "        self.removal_service.rm(filename)\n",
    "        \n"
   ]
  },
  {
   "cell_type": "code",
   "execution_count": null,
   "metadata": {},
   "outputs": [],
   "source": [
    "from mymodule import RemovalService, UploadService\n",
    "import mock\n",
    "import unittest\n",
    "\n",
    "\n",
    "class RemovalServiceTestCase(unittest.TestCase):\n",
    "    \n",
    "    @mock.patch('mymodule.os.path')\n",
    "    @mock.patch('mymodule.os')\n",
    "    def test_rm(self, mock_os, mock_path):\n",
    "        # instantiate our service\n",
    "        reference = RemovalService()\n",
    "        \n",
    "        # set up the mock\n",
    "        mock_path.isfile.return_value = False\n",
    "        \n",
    "        reference.rm(\"any path\")\n",
    "        \n",
    "        # test that the remove call was NOT called.\n",
    "        self.assertFalse(mock_os.remove.called, \"Failed to not remove the file if not present.\")\n",
    "        \n",
    "        # make the file 'exist'\n",
    "        mock_path.isfile.return_value = True\n",
    "        \n",
    "        reference.rm(\"any path\")\n",
    "        \n",
    "        mock_os.remove.assert_called_with(\"any path\")\n",
    "\n",
    "        \n",
    "# Option 1: Mocking Instance Methods      \n",
    "class UploadServiceTestCase(unittest.TestCase):\n",
    "\n",
    "    @mock.patch.object(RemovalService, 'rm')\n",
    "    def test_upload_complete(self, mock_rm):\n",
    "        # build our dependencies\n",
    "        removal_service = RemovalService()\n",
    "        reference = UploadService(removal_service)\n",
    "        \n",
    "        # call upload_complete, which should, in turn, call `rm`:\n",
    "        reference.upload_complete(\"my uploaded file\")\n",
    "        \n",
    "        # check that it called the rm method of any RemovalService\n",
    "        mock_rm.assert_called_with(\"my uploaded file\")\n",
    "        \n",
    "        # check that it called the rm method of _our_ removal_service\n",
    "        removal_service.rm.assert_called_with(\"my uploaded file\")"
   ]
  },
  {
   "cell_type": "code",
   "execution_count": null,
   "metadata": {},
   "outputs": [],
   "source": [
    "from mymodule import RemovalService, UploadService\n",
    "import mock\n",
    "import unittest\n",
    "\n",
    "\n",
    "class RemovalServiceTestCase(unittest.TestCase):\n",
    "    \n",
    "    @mock.patch('mymodule.os.path')\n",
    "    @mock.patch('mymodule.os')\n",
    "    def test_rm(self, mock_os, mock_path):\n",
    "        # instantiate our service\n",
    "        reference = RemovalService()\n",
    "        \n",
    "        # set up the mock\n",
    "        mock_path.isfile.return_value = False\n",
    "        \n",
    "        reference.rm(\"any path\")\n",
    "        \n",
    "        # test that the remove call was NOT called.\n",
    "        self.assertFalse(mock_os.remove.called, \"Failed to not remove the file if not present.\")\n",
    "        \n",
    "        # make the file 'exist'\n",
    "        mock_path.isfile.return_value = True\n",
    "        \n",
    "        reference.rm(\"any path\")\n",
    "        \n",
    "        mock_os.remove.assert_called_with(\"any path\")\n"
   ]
  },
  {
   "cell_type": "code",
   "execution_count": 3,
   "metadata": {},
   "outputs": [],
   "source": [
    "# Option 2: Creating Mock Instances\n",
    "\n",
    "#!/usr/bin/env python\n",
    "# -*- coding: utf-8 -*-\n",
    "\n",
    "from mymodule import RemovalService, UploadService\n",
    "\n",
    "import mock\n",
    "import unittest\n",
    "\n",
    "          \n",
    "class UploadServiceTestCase(unittest.TestCase):\n",
    "\n",
    "    def test_upload_complete(self, mock_rm):\n",
    "        # build our dependencies\n",
    "        mock_removal_service = mock.create_autospec(RemovalService)\n",
    "        reference = UploadService(mock_removal_service)\n",
    "        \n",
    "        # call upload_complete, which should, in turn, call `rm`:\n",
    "        reference.upload_complete(\"my uploaded file\")\n",
    "        \n",
    "        # test that it called the rm method\n",
    "        mock_removal_service.rm.assert_called_with(\"my uploaded file\")"
   ]
  },
  {
   "cell_type": "markdown",
   "metadata": {},
   "source": [
    "# Program to interfaces, not implementations"
   ]
  },
  {
   "cell_type": "markdown",
   "metadata": {},
   "source": [
    "# [DDT](https://www.giacomodebidda.com/multiply-your-python-unit-test-cases-with-ddt/) (Data Driven Test) (Pytest Build in)\n",
    "# Coverage (Nose) (Pytest Build in)\n",
    "# [Pytest vs Unittest](https://www.slant.co/versus/9148/9149/~unittest_vs_pytest)"
   ]
  },
  {
   "cell_type": "code",
   "execution_count": null,
   "metadata": {},
   "outputs": [],
   "source": []
  }
 ],
 "metadata": {
  "kernelspec": {
   "display_name": "Python 3",
   "language": "python",
   "name": "python3"
  },
  "language_info": {
   "codemirror_mode": {
    "name": "ipython",
    "version": 3
   },
   "file_extension": ".py",
   "mimetype": "text/x-python",
   "name": "python",
   "nbconvert_exporter": "python",
   "pygments_lexer": "ipython3",
   "version": "3.6.6"
  }
 },
 "nbformat": 4,
 "nbformat_minor": 1
}
